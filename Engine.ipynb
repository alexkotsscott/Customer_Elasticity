{
 "cells": [
  {
   "cell_type": "markdown",
   "metadata": {},
   "source": [
    "<h2 style=\"color:#D198B7\">Engine </h2>"
   ]
  },
  {
   "cell_type": "markdown",
   "metadata": {},
   "source": [
    "<h3 style=\"color:#98D1B2 \">Load in required libraries</h3>"
   ]
  },
  {
   "cell_type": "code",
   "execution_count": 1,
   "metadata": {},
   "outputs": [],
   "source": [
    "import numpy as np \n",
    "import pandas as pd \n",
    "\n",
    "from pandas_profiling import ProfileReport\n",
    "\n",
    "import matplotlib.pyplot as plt\n",
    "%matplotlib inline\n",
    "import seaborn as sns; sns.set()\n",
    "#from sklearn.externals import joblib\n",
    "\n",
    "from sklearn.metrics import mean_squared_error\n",
    "from sklearn.linear_model import LinearRegression\n",
    "from sklearn.linear_model import Ridge\n",
    "from sklearn.model_selection import train_test_split\n",
    "import sklearn.datasets, sklearn.model_selection\n",
    "\n",
    "#from xgboost import XGBRegressor\n",
    "\n",
    "import gc\n",
    "from itertools import product\n",
    "import time\n",
    "\n",
    "from bayes_opt import BayesianOptimization\n",
    "import lightgbm as lgb\n",
    "from sklearn.model_selection import StratifiedKFold\n",
    "from sklearn import metrics\n",
    "from bayes_opt.logger import JSONLogger\n",
    "from bayes_opt.event import Events\n",
    "\n",
    "import shap"
   ]
  },
  {
   "cell_type": "markdown",
   "metadata": {},
   "source": [
    "<h3 style=\"color:#98D1B2 \">Create Custom Libraries</h3>"
   ]
  },
  {
   "cell_type": "code",
   "execution_count": 11,
   "metadata": {},
   "outputs": [],
   "source": [
    "def train_validate_test_split(df, train_percent=.6, validate_percent=.2, seed=None):\n",
    "    \n",
    "    \"\"\"\n",
    "        Args:\n",
    "            df:                 data frame to split into train, validate, split segments\n",
    "            train_percent:      split for the train split of the df\n",
    "            validate_percent:   split for the validation data\n",
    "            seed:               set seed for replication\n",
    "\n",
    "        Returns    \n",
    "            Train Data\n",
    "            Validation Data\n",
    "            Test Data\n",
    "    \"\"\"\n",
    "    \n",
    "    np.random.seed(seed)\n",
    "    perm = np.random.permutation(df.index)\n",
    "    m = len(df.index)\n",
    "    train_end = int(train_percent * m)\n",
    "    validate_end = int(validate_percent * m) + train_end\n",
    "    train = df.iloc[perm[:train_end]]\n",
    "    validate = df.iloc[perm[train_end:validate_end]]\n",
    "    test = df.iloc[perm[validate_end:]]\n",
    "    return train, validate, test"
   ]
  },
  {
   "cell_type": "code",
   "execution_count": 15,
   "metadata": {},
   "outputs": [],
   "source": [
    "# Bayesian Black Box we wish to optimize - hyperparameters\n",
    "\n",
    "\"\"\"\n",
    "    Args:\n",
    "            None\n",
    "            In practice would add in the option to set the parameters via this function\n",
    "\n",
    "    Returns:    \n",
    "            rmse - as above could refit this script to adapt to other metrics\n",
    "\n",
    "    Notes:\n",
    "            First draft\n",
    "\n",
    "\"\"\"\n",
    "\n",
    "def lgb_black_box(\n",
    "      \n",
    "    num_leaves,  # int\n",
    "    min_data_in_leaf,  # int\n",
    "    learning_rate,\n",
    "    min_sum_hessian_in_leaf,    # int  \n",
    "    feature_fraction,\n",
    "    lambda_l1,\n",
    "    lambda_l2,\n",
    "    min_gain_to_split,\n",
    "    max_depth):\n",
    "    \n",
    "    # lgb need some inputs as int but BayesianOptimization library send continuous values values. so we change type.\n",
    "\n",
    "    num_leaves = int(num_leaves)\n",
    "    min_data_in_leaf = int(min_data_in_leaf)\n",
    "    max_depth = int(max_depth)\n",
    "    \n",
    "    # all this hyperparameter values are just for test. our goal in this kernel is how to use bayesian optimization\n",
    "    # you can see lgb documentation for more info about hyperparameters\n",
    "    params = {\n",
    "        'num_leaves': num_leaves,\n",
    "        'max_bin': 63,\n",
    "        'min_data_in_leaf': min_data_in_leaf,\n",
    "        'learning_rate': learning_rate,\n",
    "        'min_sum_hessian_in_leaf': min_sum_hessian_in_leaf,\n",
    "        'bagging_fraction': 1.0,\n",
    "        'bagging_freq': 5,\n",
    "        'feature_fraction': feature_fraction,\n",
    "        'lambda_l1': lambda_l1,\n",
    "        'lambda_l2': lambda_l2,\n",
    "        'min_gain_to_split': min_gain_to_split,\n",
    "        'max_depth': max_depth,\n",
    "        'save_binary': True, \n",
    "        'seed': 1337,\n",
    "        'feature_fraction_seed': 1337,\n",
    "        'bagging_seed': 1337,\n",
    "        'drop_seed': 1337,\n",
    "        'data_random_seed': 1337,\n",
    "        'objective': 'regression',\n",
    "        'boosting_type': 'gbdt',\n",
    "        'verbose': 1,\n",
    "        'metric': 'rmse',\n",
    "        'is_unbalance': True,\n",
    "        'boost_from_average': False, \n",
    "    }\n",
    "    \n",
    "    # Self explanatory below\n",
    "    \n",
    "    train_data = lgb.Dataset(X_valid_train.iloc[bayesian_tr_index].values,\n",
    "                            label = y_valid_train[bayesian_tr_index],\n",
    "                            feature_name=predictors,\n",
    "                            free_raw_data = False)\n",
    "    \n",
    "    \n",
    "    validation_data = lgb.Dataset(X_valid_train.iloc[bayesian_val_index].values,\n",
    "                                 label= y_valid_train[bayesian_val_index],\n",
    "                                 feature_name=predictors,\n",
    "                                 free_raw_data=False)\n",
    "    \n",
    "    num_round = 5000\n",
    "    clf = lgb.train(params, train_data, num_round, valid_sets = [validation_data], verbose_eval=250,\n",
    "                 early_stopping_rounds = 50)\n",
    "    \n",
    "    predictions = clf.predict(X_valid_train.iloc[bayesian_val_index].values,\n",
    "                              num_iteration = clf.best_iteration)\n",
    "\n",
    "#      we need to compute a regression score. roc_auc_score is a classification score. we can't use it\n",
    "#     score = metrics.roc_auc_score(y_valid_train[bayesian_val_index], predictions)\n",
    "    mse = mean_squared_error(y_valid_train[bayesian_val_index], predictions)\n",
    "    rmse = np.sqrt(mse)\n",
    "#     our bayesian optimization expect us to give it increasing number to understand this is getting better\n",
    "    return -rmse"
   ]
  },
  {
   "cell_type": "code",
   "execution_count": null,
   "metadata": {},
   "outputs": [],
   "source": [
    "def column_index(df, query_cols):\n",
    "    cols = df.columns.values\n",
    "    sidx = np.argsort(cols)\n",
    "    return sidx[np.searchsorted(cols, query_cols, sorter=sidx)]"
   ]
  },
  {
   "cell_type": "code",
   "execution_count": 9,
   "metadata": {},
   "outputs": [],
   "source": [
    "# Base Parameter Ranges - for testing\n",
    "LGB_bound = {\n",
    "    \"num_leaves\" : (5, 20),\n",
    "    \"min_data_in_leaf\" : (5, 20),\n",
    "    \"learning_rate\" : (0.01, 0.3),\n",
    "    \"min_sum_hessian_in_leaf\" : (0.00001, 0.01),\n",
    "    \"feature_fraction\" : (0.05, 0.5),\n",
    "    \"lambda_l1\" : (0, 5.0),\n",
    "    \"lambda_l2\" : (0, 5.0),\n",
    "    'min_gain_to_split': (0, 1.0),\n",
    "    'max_depth':(3,15)\n",
    "}"
   ]
  },
  {
   "cell_type": "code",
   "execution_count": 16,
   "metadata": {},
   "outputs": [
    {
     "name": "stdout",
     "output_type": "stream",
     "text": [
      "['feature_fraction', 'lambda_l1', 'lambda_l2', 'learning_rate', 'max_depth', 'min_data_in_leaf', 'min_gain_to_split', 'min_sum_hessian_in_leaf', 'num_leaves']\n"
     ]
    }
   ],
   "source": [
    "#  we have 3 parameters for this object. first is function. second is ranges. third is random_state (no matter)\n",
    "optimizer = BayesianOptimization(\n",
    "    f=lgb_black_box,\n",
    "    pbounds = LGB_bound,\n",
    "    random_state = 13\n",
    ")\n",
    "print(optimizer.space.keys)"
   ]
  },
  {
   "cell_type": "code",
   "execution_count": null,
   "metadata": {},
   "outputs": [],
   "source": []
  }
 ],
 "metadata": {
  "kernelspec": {
   "display_name": "Python 3",
   "language": "python",
   "name": "python3"
  },
  "language_info": {
   "codemirror_mode": {
    "name": "ipython",
    "version": 3
   },
   "file_extension": ".py",
   "mimetype": "text/x-python",
   "name": "python",
   "nbconvert_exporter": "python",
   "pygments_lexer": "ipython3",
   "version": "3.8.3"
  }
 },
 "nbformat": 4,
 "nbformat_minor": 4
}
